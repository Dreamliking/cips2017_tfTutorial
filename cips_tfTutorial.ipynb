{
 "cells": [
  {
   "cell_type": "code",
   "execution_count": 3,
   "metadata": {
    "collapsed": false
   },
   "outputs": [
    {
     "name": "stdout",
     "output_type": "stream",
     "text": [
      "30.0\n",
      "10.0 3.0\n",
      "10.0 10.0\n",
      "3.0 3.0\n"
     ]
    }
   ],
   "source": [
    "def add(a, b):\n",
    "    return a+b\n",
    "\n",
    "def grad_add(grad, a, b):\n",
    "    return grad, grad\n",
    "\n",
    "def mul(a, b):\n",
    "    return a*b\n",
    "\n",
    "def grad_mul(grad, a, b):\n",
    "    return grad*b, grad*a\n",
    "\n",
    "input1, input2, input3, input4 = (1., 2., 6., 4.)\n",
    "\n",
    "'''inference'''\n",
    "dummy1 = add(input1, input2)\n",
    "dummy2 = add(input3, input4)\n",
    "dummy3 = mul(dummy1, dummy2)\n",
    "\n",
    "'''caculate gradient'''\n",
    "grad3_dummy1, grad3_dummy2 = grad_mul(1, dummy1, dummy2)\n",
    "grad2_a, grad2_b = grad_add(grad3_dummy1, input1, input2)\n",
    "grad1_a, grad1_b = grad_add(grad3_dummy2, input3, input4)\n",
    "\n",
    "'''output'''\n",
    "print dummy3\n",
    "print grad3_dummy1, grad3_dummy2\n",
    "print grad2_a, grad2_b\n",
    "print grad1_a, grad1_b\n",
    "\n"
   ]
  },
  {
   "cell_type": "code",
   "execution_count": 1,
   "metadata": {
    "collapsed": false
   },
   "outputs": [
    {
     "name": "stdout",
     "output_type": "stream",
     "text": [
      "[10.0] [10.0]\n",
      "[3.0] [3.0]\n"
     ]
    }
   ],
   "source": [
    "import tensorflow as tf\n",
    "\n",
    "input1 = tf.placeholder(shape=None, dtype=tf.float32, \n",
    "                        name='input1')\n",
    "input2 = tf.placeholder(shape=None, dtype=tf.float32, \n",
    "                        name='input2')\n",
    "input3 = tf.placeholder(shape=None, dtype=tf.float32, \n",
    "                        name='input3')\n",
    "input4 = tf.placeholder(shape=None, dtype=tf.float32, \n",
    "                        name='input4')\n",
    "\n",
    "'''inference'''\n",
    "dummy3 = (input1+input2)*(input3+input4)\n",
    "\n",
    "'''caculate gradient'''\n",
    "input1_grad, input2_grad, input3_grad, input4_grad =(\n",
    "    tf.gradients(dummy3, input1),\n",
    "    tf.gradients(dummy3, input2),\n",
    "    tf.gradients(dummy3, input3),\n",
    "    tf.gradients(dummy3, input4)\n",
    ")\n",
    "\n",
    "tf.summary.scalar('accuracy', 1.0)\n",
    "merged = tf.summary.merge_all()\n",
    "\n",
    "with tf.Session() as sess:\n",
    "    train_writer = tf.summary.FileWriter('./stuff',graph=sess.graph)\n",
    "    sess.run(merged)\n",
    "    (in_1_grad, in_2_grad, in_3_grad, in_4_grad\n",
    "    ) = sess.run([input1_grad, input2_grad, \n",
    "                  input3_grad, input4_grad], \n",
    "                 feed_dict={input1:1., input2:2., \n",
    "                            input3:6., input4:4.})\n",
    "    print in_1_grad, in_2_grad\n",
    "    print in_3_grad, in_4_grad"
   ]
  },
  {
   "cell_type": "code",
   "execution_count": 1,
   "metadata": {
    "collapsed": false
   },
   "outputs": [
    {
     "name": "stdout",
     "output_type": "stream",
     "text": [
      "Tensor(\"foo/w/read:0\", shape=(1,), dtype=float32)\n",
      "Tensor(\"foo/v/read:0\", shape=(1,), dtype=float32)\n",
      "Tensor(\"foo/v/read:0\", shape=(1,), dtype=float32)\n"
     ]
    }
   ],
   "source": [
    "import tensorflow as tf\n",
    "with tf.variable_scope(\"foo\"):\n",
    "    v = tf.get_variable(\"v\", [1])  # v.name == \"foo/v:0\"\n",
    "    w = tf.get_variable(\"w\", [1])  # w.name == \"foo/w:0\"\n",
    "with tf.variable_scope(\"foo\", reuse=True):\n",
    "    v1 = tf.get_variable(\"v\")  # The same as v above.\n",
    "\n",
    "print w\n",
    "print v\n",
    "print v1"
   ]
  },
  {
   "cell_type": "code",
   "execution_count": 2,
   "metadata": {
    "collapsed": false
   },
   "outputs": [
    {
     "name": "stdout",
     "output_type": "stream",
     "text": [
      "Tensor(\"foo/w/read:0\", shape=(1,), dtype=float32)\n",
      "Tensor(\"foo/v/read:0\", shape=(1,), dtype=float32)\n",
      "Tensor(\"foo/v/read:0\", shape=(1,), dtype=float32)\n"
     ]
    }
   ],
   "source": [
    "import tensorflow as tf\n",
    "with tf.variable_scope(\"foo\") as scope:\n",
    "    v = tf.get_variable(\"v\", [1])  # v.name == \"foo/v:0\"\n",
    "    w = tf.get_variable(\"w\", [1])  # w.name == \"foo/w:0\"\n",
    "    scope.reuse_variables()\n",
    "    v1 = tf.get_variable(\"v\")  # The same as v above.\n",
    "\n",
    "print w\n",
    "print v\n",
    "print v1"
   ]
  },
  {
   "cell_type": "code",
   "execution_count": 1,
   "metadata": {
    "collapsed": false
   },
   "outputs": [
    {
     "name": "stdout",
     "output_type": "stream",
     "text": [
      "foo/dummy/v:0\n",
      "foo/v2:0\n"
     ]
    }
   ],
   "source": [
    "import tensorflow as tf\n",
    "\n",
    "with tf.variable_scope('foo'):\n",
    "    with tf.variable_scope('dummy') as sp:\n",
    "        v = tf.get_variable('v', shape=[1, 2])\n",
    "    v2 = tf.get_variable('v2', shape=[1, 1])\n",
    "\n",
    "print v.name\n",
    "print v2.name\n"
   ]
  },
  {
   "cell_type": "code",
   "execution_count": 1,
   "metadata": {
    "collapsed": false
   },
   "outputs": [
    {
     "name": "stdout",
     "output_type": "stream",
     "text": [
      "foo/dummy/v:0\n",
      "foo/dummy/v:0\n",
      "foo/v3:0\n",
      "[u'foo/v3:0']\n",
      "[u'foo/dummy/v:0']\n",
      "[array([1, 2], dtype=int32), array([1, 2], dtype=int32)]\n"
     ]
    }
   ],
   "source": [
    "import tensorflow as tf\n",
    "\n",
    "with tf.variable_scope('foo'):\n",
    "    with tf.variable_scope('dummy') as sp:\n",
    "        v = tf.get_variable('v', initializer=[1, 2])\n",
    "        sp.reuse_variables()\n",
    "        v2 = tf.get_variable('v', initializer=[4, 5], dtype=tf.int32)\n",
    "    v3 = tf.get_variable('v3', [1, 1])\n",
    "    \n",
    "foo_var_list = tf.get_collection(tf.GraphKeys.TRAINABLE_VARIABLES, scope='foo/v3')\n",
    "dummy_var_list = tf.get_collection(tf.GraphKeys.TRAINABLE_VARIABLES, scope='foo/dummy')\n",
    "\n",
    "print v.name\n",
    "print v2.name\n",
    "print v3.name\n",
    "\n",
    "print [o.name for o in foo_var_list]\n",
    "print [o.name for o in dummy_var_list]\n",
    "\n",
    "with tf.Session() as sess:\n",
    "    sess.run(tf.global_variables_initializer())\n",
    "    print sess.run([v, v2])"
   ]
  },
  {
   "cell_type": "code",
   "execution_count": 1,
   "metadata": {
    "collapsed": false
   },
   "outputs": [
    {
     "name": "stdout",
     "output_type": "stream",
     "text": [
      "[array([[ 2.,  3.]], dtype=float32), array([[ 6.25,  7.25]], dtype=float32)]\n"
     ]
    }
   ],
   "source": [
    "import tensorflow as tf\n",
    "\n",
    "with tf.variable_scope('foo'):\n",
    "    with tf.variable_scope('dummy') as sp:\n",
    "        v = tf.get_variable('v', initializer=[[2., 3.]])\n",
    "    \n",
    "dummy_var_list = tf.get_collection(tf.GraphKeys.TRAINABLE_VARIABLES, scope='foo/dummy/v')\n",
    "dummy_var = dummy_var_list[0]\n",
    "dummy_add = dummy_var+4.25\n",
    "\n",
    "with tf.Session() as sess:\n",
    "    sess.run(tf.global_variables_initializer())\n",
    "    print sess.run([v, dummy_add])"
   ]
  },
  {
   "cell_type": "code",
   "execution_count": 5,
   "metadata": {
    "collapsed": false
   },
   "outputs": [
    {
     "name": "stdout",
     "output_type": "stream",
     "text": [
      "Tensor(\"Const_7:0\", shape=(), dtype=float32) Tensor(\"Const_8:0\", shape=(), dtype=float32)\n",
      "[u'foo/dummy/v:0', u'foo/v3:0']\n",
      "[u'foo/v3:0']\n"
     ]
    }
   ],
   "source": [
    "c1 = tf.constant(1.)\n",
    "c2 = tf.constant(2.)\n",
    "print c1, c2\n",
    "print [o.name for o in tf.global_variables()]\n",
    "print [o.name for o in tf.get_collection(tf.GraphKeys.GLOBAL_VARIABLES, scope='foo/v3')]"
   ]
  },
  {
   "cell_type": "code",
   "execution_count": 10,
   "metadata": {
    "collapsed": false
   },
   "outputs": [
    {
     "name": "stdout",
     "output_type": "stream",
     "text": [
      "[ 0.12619646]\n",
      "[ 0.12619646]\n",
      "[ 0.12619646]\n",
      "[ 0.12619646]\n",
      "[ 0.12619646]\n"
     ]
    }
   ],
   "source": [
    "import numpy as np\n",
    "aa = np.random.rand(1)\n",
    "\n",
    "for i in range(5):\n",
    "    print aa\n",
    "    \n",
    "    "
   ]
  },
  {
   "cell_type": "code",
   "execution_count": 7,
   "metadata": {
    "collapsed": false
   },
   "outputs": [
    {
     "name": "stdout",
     "output_type": "stream",
     "text": [
      "[[ 0.  0.]\n",
      " [ 0.  0.]]\n",
      "\n",
      "[[ 1.  1.  1.]\n",
      " [ 1.  1.  1.]\n",
      " [ 1.  1.  1.]]\n"
     ]
    }
   ],
   "source": [
    "import tensorflow as tf\n",
    "choice = tf.placeholder(shape=[], dtype=tf.bool)\n",
    "out = tf.cond(choice, lambda: tf.zeros([2, 2]), \n",
    "              lambda: tf.ones([3, 3]))\n",
    "with tf.Session() as sess:\n",
    "    print sess.run(out, feed_dict={choice: True})\n",
    "    print \n",
    "    print sess.run(out, feed_dict={choice: False})"
   ]
  },
  {
   "cell_type": "code",
   "execution_count": null,
   "metadata": {
    "collapsed": true
   },
   "outputs": [],
   "source": []
  }
 ],
 "metadata": {
  "kernelspec": {
   "display_name": "Python 2",
   "language": "python",
   "name": "python2"
  },
  "language_info": {
   "codemirror_mode": {
    "name": "ipython",
    "version": 2
   },
   "file_extension": ".py",
   "mimetype": "text/x-python",
   "name": "python",
   "nbconvert_exporter": "python",
   "pygments_lexer": "ipython2",
   "version": "2.7.11"
  }
 },
 "nbformat": 4,
 "nbformat_minor": 2
}
