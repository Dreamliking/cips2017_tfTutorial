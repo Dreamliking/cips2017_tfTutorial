{
 "cells": [
  {
   "cell_type": "code",
   "execution_count": 1,
   "metadata": {
    "collapsed": false
   },
   "outputs": [
    {
     "name": "stdout",
     "output_type": "stream",
     "text": [
      "[1.0, 2.0, 3.0]\n",
      "3.0\n"
     ]
    }
   ],
   "source": [
    "import tensorflow as tf\n",
    "import numpy as np\n",
    "\n",
    "a = tf.constant(1., name='const1') #const1 is the name in tensorflow domain, while 'a' is a name in python domain\n",
    "                                    #'a' is a refference of a tensor object that tf.constant() return, 'a' don't hold \n",
    "                                    #object, so you can always change a's refference to another tensor object\n",
    "b = tf.constant(2., name='const2')\n",
    "c = tf.add(a, b)\n",
    "\n",
    "with tf.Session() as sess:\n",
    "    print sess.run([a, b, c])\n",
    "    print c.eval()"
   ]
  },
  {
   "cell_type": "code",
   "execution_count": 2,
   "metadata": {
    "collapsed": false
   },
   "outputs": [
    {
     "name": "stdout",
     "output_type": "stream",
     "text": [
      "3.0\n"
     ]
    }
   ],
   "source": [
    "import tensorflow as tf\n",
    "import numpy as np\n",
    "\"\"\"\n",
    "Instead of using tf.add, tf.sub, tf.mul, tf.div, etc. we can use +, -, *, / \n",
    "and few other Arithmetic operators director, note that those expressions don't evaluate to a actual value, but a tensor\n",
    "Tensorflow have some sort of Operator overriding mechanism that make + have the same effect as tf.add\n",
    "\"\"\"\n",
    "a = tf.constant(1., name='const1') + tf.constant(2., name='const2') \n",
    "                                                            \n",
    "with tf.Session() as sess:\n",
    "    print sess.run(a)"
   ]
  },
  {
   "cell_type": "code",
   "execution_count": 3,
   "metadata": {
    "collapsed": false
   },
   "outputs": [
    {
     "name": "stdout",
     "output_type": "stream",
     "text": [
      "[-0.39539278]\n",
      "[-0.79538769]\n",
      "[-0.94243872]\n",
      "[-1.35026503]\n",
      "[-1.49993551]\n"
     ]
    }
   ],
   "source": [
    "# consider tf.random_normal as a random number generator\n",
    "#show that the value in tensor is not determined in \n",
    "#graph constructing stage,but in running stage\n",
    "import tensorflow as tf\n",
    "import numpy as np\n",
    "\n",
    "a = tf.random_normal([1], name='random')\n",
    "with tf.Session() as sess:\n",
    "    for i in range(5):\n",
    "        print sess.run(a)"
   ]
  },
  {
   "cell_type": "code",
   "execution_count": 1,
   "metadata": {
    "collapsed": false
   },
   "outputs": [
    {
     "name": "stdout",
     "output_type": "stream",
     "text": [
      "var: 0.0 1.0 4.0\n",
      "var: 2.0 3.0 8.0\n",
      "var: 4.0 5.0 12.0\n",
      "var: 6.0 [7.0, 14.0]\n",
      "var: 7.0 [8.0, 16.0]\n",
      "var: 8.0 [9.0, 18.0]\n"
     ]
    }
   ],
   "source": [
    "#Assign example\n",
    "import tensorflow as tf\n",
    "import numpy as np\n",
    "\n",
    "var = tf.Variable(0., name='var')\n",
    "const = tf.constant(1.)\n",
    "add_op = tf.add(var, const, name='myAdd') # tmp = var + const\n",
    "\n",
    "#return a tensor, and have a side effect, that is assign add_op to var\n",
    "assign_op = tf.assign(var, add_op, name='myAssign') \n",
    "\n",
    "out1 = assign_op*1\n",
    "out2 = assign_op*2\n",
    "\n",
    "with tf.Session() as sess:\n",
    "    train_writer = tf.summary.FileWriter('./stuff',graph=sess.graph)\n",
    "    sess.run(tf.global_variables_initializer())\n",
    "    for i in range(3):\n",
    "        print \"var:\", sess.run(var), sess.run(out1), sess.run(out2)\n",
    "    \n",
    "    for i in range(3):\n",
    "        print \"var:\", sess.run(var), sess.run([out1, out2])\n"
   ]
  },
  {
   "cell_type": "code",
   "execution_count": 5,
   "metadata": {
    "collapsed": false
   },
   "outputs": [
    {
     "name": "stdout",
     "output_type": "stream",
     "text": [
      "[<tf.Tensor 'gradients/Pow_grad/Reshape:0' shape=(3,) dtype=float32>] <type 'list'>\n",
      "[array([ 0.,  4.,  8.], dtype=float32)]\n",
      "[array([ 3.75720215,  2.32265329,  3.79678249], dtype=float32)]\n",
      "[array([  4.,   8.,  12.], dtype=float32)]\n",
      "[array([ 3.75720215,  2.32265329,  3.79678249], dtype=float32)]\n",
      "[array([  8.,  12.,  16.], dtype=float32)]\n",
      "[array([ 3.75720215,  2.32265329,  3.79678249], dtype=float32)]\n",
      "[array([ 12.,  16.,  20.], dtype=float32)]\n",
      "[array([ 3.75720215,  2.32265329,  3.79678249], dtype=float32)]\n",
      "[array([ 16.,  20.,  24.], dtype=float32)]\n",
      "[array([ 3.75720215,  2.32265329,  3.79678249], dtype=float32)]\n",
      "[array([ 20.,  24.,  28.], dtype=float32)]\n",
      "[array([ 3.75720215,  2.32265329,  3.79678249], dtype=float32)]\n",
      "[array([ 24.,  28.,  32.], dtype=float32)]\n",
      "[array([ 3.75720215,  2.32265329,  3.79678249], dtype=float32)]\n",
      "[array([ 28.,  32.,  36.], dtype=float32)]\n",
      "[array([ 3.75720215,  2.32265329,  3.79678249], dtype=float32)]\n",
      "[array([ 32.,  36.,  40.], dtype=float32)]\n",
      "[array([ 3.75720215,  2.32265329,  3.79678249], dtype=float32)]\n",
      "[array([ 36.,  40.,  44.], dtype=float32)]\n",
      "[array([ 3.75720215,  2.32265329,  3.79678249], dtype=float32)]\n"
     ]
    }
   ],
   "source": [
    "#Gradient Computing demo\n",
    "import tensorflow as tf\n",
    "import numpy as np\n",
    "\n",
    "a = tf.Variable(np.float32(np.random.rand(3)), 'a')\n",
    "b = tf.add(tf.multiply(2., tf.pow(a, 2)), 3)    # 2 * x^2 + 3\n",
    "# b = 2 * a**2 + 3\n",
    "\n",
    "grad = tf.gradients(b, a)\n",
    "print grad, type(grad)\n",
    "with tf.Session() as sess:\n",
    "    sess.run(tf.global_variables_initializer())\n",
    "    for i in range(10):\n",
    "#         feed_dict = {a : np.float32(np.random.rand(3))}\n",
    "        feed_dict = {a : [i, i+1, i+2]}\n",
    "        print sess.run(grad, feed_dict=feed_dict)\n",
    "        print sess.run(grad)"
   ]
  },
  {
   "cell_type": "code",
   "execution_count": 6,
   "metadata": {
    "collapsed": false
   },
   "outputs": [
    {
     "name": "stdout",
     "output_type": "stream",
     "text": [
      "[ 0.03614243]\n",
      "####################\n",
      "[-1.28610408]\n",
      "####################\n",
      "[ 1.40038896]\n",
      "####################\n"
     ]
    }
   ],
   "source": [
    "import tensorflow as tf\n",
    "import numpy as np\n",
    "\n",
    "aa = tf.random_normal([1])\n",
    "# bb = tf.constant(aa)    #Wrong Wrong Wrong\n",
    "with tf.Session() as sess:\n",
    "    for i in range(3):\n",
    "        print sess.run(aa)\n",
    "        print '#'*20"
   ]
  }
 ],
 "metadata": {
  "kernelspec": {
   "display_name": "Python 2",
   "language": "python",
   "name": "python2"
  },
  "language_info": {
   "codemirror_mode": {
    "name": "ipython",
    "version": 2
   },
   "file_extension": ".py",
   "mimetype": "text/x-python",
   "name": "python",
   "nbconvert_exporter": "python",
   "pygments_lexer": "ipython2",
   "version": "2.7.11"
  }
 },
 "nbformat": 4,
 "nbformat_minor": 1
}
